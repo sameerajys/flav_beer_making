{
 "cells": [
  {
   "cell_type": "markdown",
   "metadata": {},
   "source": [
    "Insert following data in order by seperating with a comma\n"
   ]
  },
  {
   "cell_type": "code",
   "execution_count": 45,
   "metadata": {},
   "outputs": [
    {
     "name": "stdout",
     "output_type": "stream",
     "text": [
      "Base beer volume =  556.8  hl\n",
      "Number of Canisters =  3.9\n",
      "DA water volume =  48.14  hl\n",
      "Base beer volume =  556.8  hl\n",
      "Caramel to be added =  1.38  kg\n"
     ]
    }
   ],
   "source": [
    "# Data=[Base beer ALC,final product's ALC, Base beer color,final product's color, Compound dosing rate, required final volume]\n",
    "specific_Gravity= 1.31\n",
    "color_EBC=28500\n",
    "     \n",
    "Data=[10, 8.7, 20, 17, 7, 640]\n",
    "\n",
    "#Compound dosing rate (kg/hl) -- a\n",
    "#required Flavor compound (kg) --b\n",
    "#required Flavor canisters (nos)--c\n",
    "#compound volume (hl)--d\n",
    "#needed treated beer before compound --e\n",
    "#water amount before --f\n",
    "#after compound water --g\n",
    "\n",
    "a=Data[4]\n",
    "b=a*Data[5]\n",
    "c=b/1150\n",
    "d=c*9\n",
    "e=(Data[1]*Data[5])/Data[0]\n",
    "f=Data[5]-e\n",
    "g=f-d\n",
    "\n",
    "df=(Data[0]-Data[1])/Data[0] #Dilution Factor\n",
    "\n",
    "x=Data[5]*(Data[3]-(Data[2]-1)*(1-df))/(color_EBC-Data[3])*100*specific_Gravity # Caramel calculation\n",
    "\n",
    "\n",
    "print(\"Base beer volume = \",round(e, 2),\" hl\")\n",
    "print(\"Number of Canisters = \",round(c, 2))\n",
    "print(\"DA water volume = \",round(g, 2),\" hl\")\n",
    "print(\"Base beer volume = \",round(e, 2),\" hl\")\n",
    "print(\"Caramel to be added = \",round(x, 2),\" kg\")"
   ]
  },
  {
   "cell_type": "code",
   "execution_count": null,
   "metadata": {},
   "outputs": [],
   "source": []
  }
 ],
 "metadata": {
  "kernelspec": {
   "display_name": "Python 3",
   "language": "python",
   "name": "python3"
  },
  "language_info": {
   "codemirror_mode": {
    "name": "ipython",
    "version": 3
   },
   "file_extension": ".py",
   "mimetype": "text/x-python",
   "name": "python",
   "nbconvert_exporter": "python",
   "pygments_lexer": "ipython3",
   "version": "3.7.3"
  }
 },
 "nbformat": 4,
 "nbformat_minor": 2
}
